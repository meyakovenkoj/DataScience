{
 "cells": [
  {
   "cell_type": "markdown",
   "metadata": {},
   "source": [
    "# Get started"
   ]
  },
  {
   "cell_type": "markdown",
   "metadata": {},
   "source": [
    "First we load ipython package sql\n",
    "It can be installed by\n",
    "```bash\n",
    "pip install ipython-sql\n",
    "```"
   ]
  },
  {
   "cell_type": "code",
   "execution_count": 2,
   "metadata": {},
   "outputs": [],
   "source": [
    "%load_ext sql"
   ]
  },
  {
   "cell_type": "markdown",
   "metadata": {},
   "source": [
    "Connect to our database in *docker*"
   ]
  },
  {
   "cell_type": "code",
   "execution_count": 3,
   "metadata": {},
   "outputs": [],
   "source": [
    "# PostgreSQL local\n",
    "%sql postgresql://postgres@localhost:5432/datascience"
   ]
  },
  {
   "cell_type": "code",
   "execution_count": 4,
   "metadata": {},
   "outputs": [
    {
     "name": "stdout",
     "output_type": "stream",
     "text": [
      " * postgresql://postgres@localhost:5432/datascience\n",
      "1 rows affected.\n"
     ]
    },
    {
     "data": {
      "text/html": [
       "<table>\n",
       "    <tr>\n",
       "        <th>version</th>\n",
       "    </tr>\n",
       "    <tr>\n",
       "        <td>MADlib version: 1.17.0, git revision: unknown, cmake configuration time: Sat Dec 19 21:45:13 UTC 2020, build type: RelWithDebInfo, build system: Linux-4.19.121-linuxkit, C compiler: gcc 5.4.0, C++ compiler: g++ 5.4.0</td>\n",
       "    </tr>\n",
       "</table>"
      ],
      "text/plain": [
       "[('MADlib version: 1.17.0, git revision: unknown, cmake configuration time: Sat Dec 19 21:45:13 UTC 2020, build type: RelWithDebInfo, build system: Linux-4.19.121-linuxkit, C compiler: gcc 5.4.0, C++ compiler: g++ 5.4.0',)]"
      ]
     },
     "execution_count": 4,
     "metadata": {},
     "output_type": "execute_result"
    }
   ],
   "source": [
    "%sql select madlib.version();"
   ]
  },
  {
   "cell_type": "markdown",
   "metadata": {},
   "source": [
    "## Load data\n",
    "Create table `survey` to load data. All rows are integers"
   ]
  },
  {
   "cell_type": "code",
   "execution_count": 5,
   "metadata": {},
   "outputs": [
    {
     "name": "stdout",
     "output_type": "stream",
     "text": [
      " * postgresql://postgres@localhost:5432/datascience\n",
      "Done.\n",
      "Done.\n"
     ]
    },
    {
     "data": {
      "text/plain": [
       "[]"
      ]
     },
     "execution_count": 5,
     "metadata": {},
     "output_type": "execute_result"
    }
   ],
   "source": [
    "%%sql\n",
    "DROP TABLE IF EXISTS survey;\n",
    "\n",
    "create table survey(mydepv integer, \n",
    "                    price integer, \n",
    "                    income integer, \n",
    "                    age integer);"
   ]
  },
  {
   "cell_type": "markdown",
   "metadata": {},
   "source": [
    "Load from file. it was downloaded from [Hyper MEPhIx](https://hyper.mephi.ru/assets/courseware/v1/345e8b1c6ea11120575066ec4ac58f4a/asset-v1:MEPhIx+CS712DS+2020Fall+type@asset+block/survey.csv)\n"
   ]
  },
  {
   "cell_type": "code",
   "execution_count": 6,
   "metadata": {},
   "outputs": [
    {
     "name": "stdout",
     "output_type": "stream",
     "text": [
      " * postgresql://postgres@localhost:5432/datascience\n",
      "750 rows affected.\n"
     ]
    },
    {
     "data": {
      "text/plain": [
       "[]"
      ]
     },
     "execution_count": 6,
     "metadata": {},
     "output_type": "execute_result"
    }
   ],
   "source": [
    "%%sql\n",
    "COPY survey(mydepv, price, income, age)\n",
    "FROM '/workdir/DataScience/Lab7/survey.csv'\n",
    "DELIMITER ','\n",
    "CSV HEADER;"
   ]
  },
  {
   "cell_type": "markdown",
   "metadata": {},
   "source": [
    "Check rows - Alright :)"
   ]
  },
  {
   "cell_type": "code",
   "execution_count": 7,
   "metadata": {},
   "outputs": [
    {
     "name": "stdout",
     "output_type": "stream",
     "text": [
      " * postgresql://postgres@localhost:5432/datascience\n",
      "10 rows affected.\n"
     ]
    },
    {
     "data": {
      "text/html": [
       "<table>\n",
       "    <tr>\n",
       "        <th>mydepv</th>\n",
       "        <th>price</th>\n",
       "        <th>income</th>\n",
       "        <th>age</th>\n",
       "    </tr>\n",
       "    <tr>\n",
       "        <td>1</td>\n",
       "        <td>10</td>\n",
       "        <td>33</td>\n",
       "        <td>37</td>\n",
       "    </tr>\n",
       "    <tr>\n",
       "        <td>0</td>\n",
       "        <td>20</td>\n",
       "        <td>21</td>\n",
       "        <td>55</td>\n",
       "    </tr>\n",
       "    <tr>\n",
       "        <td>1</td>\n",
       "        <td>30</td>\n",
       "        <td>59</td>\n",
       "        <td>55</td>\n",
       "    </tr>\n",
       "    <tr>\n",
       "        <td>1</td>\n",
       "        <td>20</td>\n",
       "        <td>76</td>\n",
       "        <td>44</td>\n",
       "    </tr>\n",
       "    <tr>\n",
       "        <td>0</td>\n",
       "        <td>30</td>\n",
       "        <td>24</td>\n",
       "        <td>37</td>\n",
       "    </tr>\n",
       "    <tr>\n",
       "        <td>0</td>\n",
       "        <td>20</td>\n",
       "        <td>22</td>\n",
       "        <td>32</td>\n",
       "    </tr>\n",
       "    <tr>\n",
       "        <td>1</td>\n",
       "        <td>10</td>\n",
       "        <td>28</td>\n",
       "        <td>32</td>\n",
       "    </tr>\n",
       "    <tr>\n",
       "        <td>1</td>\n",
       "        <td>10</td>\n",
       "        <td>49</td>\n",
       "        <td>38</td>\n",
       "    </tr>\n",
       "    <tr>\n",
       "        <td>0</td>\n",
       "        <td>30</td>\n",
       "        <td>76</td>\n",
       "        <td>43</td>\n",
       "    </tr>\n",
       "    <tr>\n",
       "        <td>1</td>\n",
       "        <td>20</td>\n",
       "        <td>59</td>\n",
       "        <td>55</td>\n",
       "    </tr>\n",
       "</table>"
      ],
      "text/plain": [
       "[(1, 10, 33, 37),\n",
       " (0, 20, 21, 55),\n",
       " (1, 30, 59, 55),\n",
       " (1, 20, 76, 44),\n",
       " (0, 30, 24, 37),\n",
       " (0, 20, 22, 32),\n",
       " (1, 10, 28, 32),\n",
       " (1, 10, 49, 38),\n",
       " (0, 30, 76, 43),\n",
       " (1, 20, 59, 55)]"
      ]
     },
     "execution_count": 7,
     "metadata": {},
     "output_type": "execute_result"
    }
   ],
   "source": [
    "%sql select * from survey limit 10;"
   ]
  },
  {
   "cell_type": "markdown",
   "metadata": {},
   "source": [
    "## Modify data\n",
    "Add columns `price20` and `price30`"
   ]
  },
  {
   "cell_type": "code",
   "execution_count": 8,
   "metadata": {},
   "outputs": [
    {
     "name": "stdout",
     "output_type": "stream",
     "text": [
      " * postgresql://postgres@localhost:5432/datascience\n",
      "Done.\n"
     ]
    },
    {
     "data": {
      "text/plain": [
       "[]"
      ]
     },
     "execution_count": 8,
     "metadata": {},
     "output_type": "execute_result"
    }
   ],
   "source": [
    "%%sql\n",
    "alter table survey \n",
    "add column price20 integer;"
   ]
  },
  {
   "cell_type": "code",
   "execution_count": 9,
   "metadata": {},
   "outputs": [
    {
     "name": "stdout",
     "output_type": "stream",
     "text": [
      " * postgresql://postgres@localhost:5432/datascience\n",
      "Done.\n"
     ]
    },
    {
     "data": {
      "text/plain": [
       "[]"
      ]
     },
     "execution_count": 9,
     "metadata": {},
     "output_type": "execute_result"
    }
   ],
   "source": [
    "%%sql\n",
    "alter table survey \n",
    "add column price30 integer;"
   ]
  },
  {
   "cell_type": "markdown",
   "metadata": {},
   "source": [
    "Set them as 1 or 0 for prices = 10 or 20 or 30"
   ]
  },
  {
   "cell_type": "code",
   "execution_count": 10,
   "metadata": {},
   "outputs": [
    {
     "name": "stdout",
     "output_type": "stream",
     "text": [
      " * postgresql://postgres@localhost:5432/datascience\n",
      "250 rows affected.\n",
      "500 rows affected.\n",
      "250 rows affected.\n",
      "500 rows affected.\n"
     ]
    },
    {
     "data": {
      "text/plain": [
       "[]"
      ]
     },
     "execution_count": 10,
     "metadata": {},
     "output_type": "execute_result"
    }
   ],
   "source": [
    "%%sql\n",
    "update survey set price20=1 where price=20;\n",
    "update survey set price20=0 where price!=20;\n",
    "update survey set price30=1 where price=30;\n",
    "update survey set price30=0 where price!=30;"
   ]
  },
  {
   "cell_type": "markdown",
   "metadata": {},
   "source": [
    "Check them"
   ]
  },
  {
   "cell_type": "code",
   "execution_count": 11,
   "metadata": {},
   "outputs": [
    {
     "name": "stdout",
     "output_type": "stream",
     "text": [
      " * postgresql://postgres@localhost:5432/datascience\n",
      "10 rows affected.\n"
     ]
    },
    {
     "data": {
      "text/html": [
       "<table>\n",
       "    <tr>\n",
       "        <th>mydepv</th>\n",
       "        <th>price</th>\n",
       "        <th>income</th>\n",
       "        <th>age</th>\n",
       "        <th>price20</th>\n",
       "        <th>price30</th>\n",
       "    </tr>\n",
       "    <tr>\n",
       "        <td>1</td>\n",
       "        <td>30</td>\n",
       "        <td>59</td>\n",
       "        <td>55</td>\n",
       "        <td>0</td>\n",
       "        <td>1</td>\n",
       "    </tr>\n",
       "    <tr>\n",
       "        <td>0</td>\n",
       "        <td>30</td>\n",
       "        <td>24</td>\n",
       "        <td>37</td>\n",
       "        <td>0</td>\n",
       "        <td>1</td>\n",
       "    </tr>\n",
       "    <tr>\n",
       "        <td>0</td>\n",
       "        <td>30</td>\n",
       "        <td>76</td>\n",
       "        <td>43</td>\n",
       "        <td>0</td>\n",
       "        <td>1</td>\n",
       "    </tr>\n",
       "    <tr>\n",
       "        <td>0</td>\n",
       "        <td>30</td>\n",
       "        <td>45</td>\n",
       "        <td>32</td>\n",
       "        <td>0</td>\n",
       "        <td>1</td>\n",
       "    </tr>\n",
       "    <tr>\n",
       "        <td>0</td>\n",
       "        <td>30</td>\n",
       "        <td>21</td>\n",
       "        <td>46</td>\n",
       "        <td>0</td>\n",
       "        <td>1</td>\n",
       "    </tr>\n",
       "    <tr>\n",
       "        <td>0</td>\n",
       "        <td>30</td>\n",
       "        <td>49</td>\n",
       "        <td>44</td>\n",
       "        <td>0</td>\n",
       "        <td>1</td>\n",
       "    </tr>\n",
       "    <tr>\n",
       "        <td>0</td>\n",
       "        <td>30</td>\n",
       "        <td>31</td>\n",
       "        <td>32</td>\n",
       "        <td>0</td>\n",
       "        <td>1</td>\n",
       "    </tr>\n",
       "    <tr>\n",
       "        <td>0</td>\n",
       "        <td>30</td>\n",
       "        <td>22</td>\n",
       "        <td>32</td>\n",
       "        <td>0</td>\n",
       "        <td>1</td>\n",
       "    </tr>\n",
       "    <tr>\n",
       "        <td>0</td>\n",
       "        <td>30</td>\n",
       "        <td>29</td>\n",
       "        <td>32</td>\n",
       "        <td>0</td>\n",
       "        <td>1</td>\n",
       "    </tr>\n",
       "    <tr>\n",
       "        <td>1</td>\n",
       "        <td>30</td>\n",
       "        <td>59</td>\n",
       "        <td>55</td>\n",
       "        <td>0</td>\n",
       "        <td>1</td>\n",
       "    </tr>\n",
       "</table>"
      ],
      "text/plain": [
       "[(1, 30, 59, 55, 0, 1),\n",
       " (0, 30, 24, 37, 0, 1),\n",
       " (0, 30, 76, 43, 0, 1),\n",
       " (0, 30, 45, 32, 0, 1),\n",
       " (0, 30, 21, 46, 0, 1),\n",
       " (0, 30, 49, 44, 0, 1),\n",
       " (0, 30, 31, 32, 0, 1),\n",
       " (0, 30, 22, 32, 0, 1),\n",
       " (0, 30, 29, 32, 0, 1),\n",
       " (1, 30, 59, 55, 0, 1)]"
      ]
     },
     "execution_count": 11,
     "metadata": {},
     "output_type": "execute_result"
    }
   ],
   "source": [
    "%sql select * from survey limit 10;"
   ]
  },
  {
   "cell_type": "markdown",
   "metadata": {},
   "source": [
    "Create table with columns of dependent and independent"
   ]
  },
  {
   "cell_type": "code",
   "execution_count": 12,
   "metadata": {},
   "outputs": [
    {
     "name": "stdout",
     "output_type": "stream",
     "text": [
      " * postgresql://postgres@localhost:5432/datascience\n",
      "Done.\n",
      "Done.\n"
     ]
    },
    {
     "data": {
      "text/plain": [
       "[]"
      ]
     },
     "execution_count": 12,
     "metadata": {},
     "output_type": "execute_result"
    }
   ],
   "source": [
    "%%sql\n",
    "DROP TABLE IF EXISTS survey2;\n",
    "CREATE TABLE survey2 (\n",
    "    mydepv boolean,\n",
    "    ind_values integer[]\n",
    ");"
   ]
  },
  {
   "cell_type": "markdown",
   "metadata": {},
   "source": [
    "Insert values MYDEPV and array of others"
   ]
  },
  {
   "cell_type": "code",
   "execution_count": 13,
   "metadata": {},
   "outputs": [
    {
     "name": "stdout",
     "output_type": "stream",
     "text": [
      " * postgresql://postgres@localhost:5432/datascience\n",
      "750 rows affected.\n"
     ]
    },
    {
     "data": {
      "text/plain": [
       "[]"
      ]
     },
     "execution_count": 13,
     "metadata": {},
     "output_type": "execute_result"
    }
   ],
   "source": [
    "%%sql\n",
    "insert into survey2(mydepv, ind_values)\n",
    "select survey.mydepv::bool, \n",
    "ARRAY[1, \n",
    "      survey.income, \n",
    "      survey.age, \n",
    "      survey.price20, \n",
    "      survey.price30] as arr from survey;"
   ]
  },
  {
   "cell_type": "markdown",
   "metadata": {},
   "source": [
    "Check them"
   ]
  },
  {
   "cell_type": "code",
   "execution_count": 14,
   "metadata": {},
   "outputs": [
    {
     "name": "stdout",
     "output_type": "stream",
     "text": [
      " * postgresql://postgres@localhost:5432/datascience\n",
      "10 rows affected.\n"
     ]
    },
    {
     "data": {
      "text/html": [
       "<table>\n",
       "    <tr>\n",
       "        <th>mydepv</th>\n",
       "        <th>ind_values</th>\n",
       "    </tr>\n",
       "    <tr>\n",
       "        <td>True</td>\n",
       "        <td>[1, 59, 55, 0, 1]</td>\n",
       "    </tr>\n",
       "    <tr>\n",
       "        <td>False</td>\n",
       "        <td>[1, 24, 37, 0, 1]</td>\n",
       "    </tr>\n",
       "    <tr>\n",
       "        <td>False</td>\n",
       "        <td>[1, 76, 43, 0, 1]</td>\n",
       "    </tr>\n",
       "    <tr>\n",
       "        <td>False</td>\n",
       "        <td>[1, 45, 32, 0, 1]</td>\n",
       "    </tr>\n",
       "    <tr>\n",
       "        <td>False</td>\n",
       "        <td>[1, 21, 46, 0, 1]</td>\n",
       "    </tr>\n",
       "    <tr>\n",
       "        <td>False</td>\n",
       "        <td>[1, 49, 44, 0, 1]</td>\n",
       "    </tr>\n",
       "    <tr>\n",
       "        <td>False</td>\n",
       "        <td>[1, 31, 32, 0, 1]</td>\n",
       "    </tr>\n",
       "    <tr>\n",
       "        <td>False</td>\n",
       "        <td>[1, 22, 32, 0, 1]</td>\n",
       "    </tr>\n",
       "    <tr>\n",
       "        <td>False</td>\n",
       "        <td>[1, 29, 32, 0, 1]</td>\n",
       "    </tr>\n",
       "    <tr>\n",
       "        <td>True</td>\n",
       "        <td>[1, 59, 55, 0, 1]</td>\n",
       "    </tr>\n",
       "</table>"
      ],
      "text/plain": [
       "[(True, [1, 59, 55, 0, 1]),\n",
       " (False, [1, 24, 37, 0, 1]),\n",
       " (False, [1, 76, 43, 0, 1]),\n",
       " (False, [1, 45, 32, 0, 1]),\n",
       " (False, [1, 21, 46, 0, 1]),\n",
       " (False, [1, 49, 44, 0, 1]),\n",
       " (False, [1, 31, 32, 0, 1]),\n",
       " (False, [1, 22, 32, 0, 1]),\n",
       " (False, [1, 29, 32, 0, 1]),\n",
       " (True, [1, 59, 55, 0, 1])]"
      ]
     },
     "execution_count": 14,
     "metadata": {},
     "output_type": "execute_result"
    }
   ],
   "source": [
    "%sql select * from survey2 limit 10;"
   ]
  },
  {
   "cell_type": "markdown",
   "metadata": {},
   "source": [
    "## Create logistic regression with MADLib"
   ]
  },
  {
   "cell_type": "code",
   "execution_count": 15,
   "metadata": {},
   "outputs": [
    {
     "name": "stdout",
     "output_type": "stream",
     "text": [
      " * postgresql://postgres@localhost:5432/datascience\n",
      "Done.\n",
      "1 rows affected.\n"
     ]
    },
    {
     "data": {
      "text/html": [
       "<table>\n",
       "    <tr>\n",
       "        <th>logregr_train</th>\n",
       "    </tr>\n",
       "    <tr>\n",
       "        <td></td>\n",
       "    </tr>\n",
       "</table>"
      ],
      "text/plain": [
       "[('',)]"
      ]
     },
     "execution_count": 15,
     "metadata": {},
     "output_type": "execute_result"
    }
   ],
   "source": [
    "%%sql\n",
    "DROP TABLE IF EXISTS survey_logregr, survey_logregr_summary;\n",
    "SELECT madlib.logregr_train('survey2',\n",
    "              'survey_logregr',\n",
    "              'mydepv',\n",
    "              'ind_values');"
   ]
  },
  {
   "cell_type": "markdown",
   "metadata": {},
   "source": [
    "### Summary"
   ]
  },
  {
   "cell_type": "code",
   "execution_count": 16,
   "metadata": {},
   "outputs": [
    {
     "name": "stdout",
     "output_type": "stream",
     "text": [
      " * postgresql://postgres@localhost:5432/datascience\n",
      "5 rows affected.\n"
     ]
    },
    {
     "data": {
      "text/html": [
       "<table>\n",
       "    <tr>\n",
       "        <th>attribute</th>\n",
       "        <th>coefficient</th>\n",
       "        <th>standard_error</th>\n",
       "        <th>z_stat</th>\n",
       "        <th>pvalue</th>\n",
       "        <th>odds_ratio</th>\n",
       "    </tr>\n",
       "    <tr>\n",
       "        <td>intercept</td>\n",
       "        <td>-6.02116057636787</td>\n",
       "        <td>0.532440923644448</td>\n",
       "        <td>-11.3085983983993</td>\n",
       "        <td>1.18974837145447e-29</td>\n",
       "        <td>0.00242685141358459</td>\n",
       "    </tr>\n",
       "    <tr>\n",
       "        <td>income</td>\n",
       "        <td>0.128759374924942</td>\n",
       "        <td>0.00923035837106702</td>\n",
       "        <td>13.9495531753723</td>\n",
       "        <td>3.16582525170149e-44</td>\n",
       "        <td>1.13741640032794</td>\n",
       "    </tr>\n",
       "    <tr>\n",
       "        <td>age</td>\n",
       "        <td>0.0350637796423411</td>\n",
       "        <td>0.0117900836733219</td>\n",
       "        <td>2.97400600486677</td>\n",
       "        <td>0.00293939322817078</td>\n",
       "        <td>1.03568576236067</td>\n",
       "    </tr>\n",
       "    <tr>\n",
       "        <td>price20</td>\n",
       "        <td>-0.744177494951807</td>\n",
       "        <td>0.264387873296036</td>\n",
       "        <td>-2.81471871487294</td>\n",
       "        <td>0.00488199444444116</td>\n",
       "        <td>0.475124931924531</td>\n",
       "    </tr>\n",
       "    <tr>\n",
       "        <td>price30</td>\n",
       "        <td>-2.21028046675832</td>\n",
       "        <td>0.311075548871486</td>\n",
       "        <td>-7.10528511410408</td>\n",
       "        <td>1.20074395698392e-12</td>\n",
       "        <td>0.109669885444447</td>\n",
       "    </tr>\n",
       "</table>"
      ],
      "text/plain": [
       "[('intercept', -6.02116057636787, 0.532440923644448, -11.3085983983993, 1.18974837145447e-29, 0.00242685141358459),\n",
       " ('income', 0.128759374924942, 0.00923035837106702, 13.9495531753723, 3.16582525170149e-44, 1.13741640032794),\n",
       " ('age', 0.0350637796423411, 0.0117900836733219, 2.97400600486677, 0.00293939322817078, 1.03568576236067),\n",
       " ('price20', -0.744177494951807, 0.264387873296036, -2.81471871487294, 0.00488199444444116, 0.475124931924531),\n",
       " ('price30', -2.21028046675832, 0.311075548871486, -7.10528511410408, 1.20074395698392e-12, 0.109669885444447)]"
      ]
     },
     "execution_count": 16,
     "metadata": {},
     "output_type": "execute_result"
    }
   ],
   "source": [
    "%%sql\n",
    "SELECT unnest(array['intercept',\n",
    "                    'income', \n",
    "                    'age', \n",
    "                    'price20', \n",
    "                    'price30']) as attribute,\n",
    "       unnest(coef) as coefficient,\n",
    "       unnest(std_err) as standard_error,\n",
    "       unnest(z_stats) as z_stat,\n",
    "       unnest(p_values) as pvalue,\n",
    "       unnest(odds_ratios) as odds_ratio\n",
    "    FROM survey_logregr;"
   ]
  },
  {
   "cell_type": "markdown",
   "metadata": {},
   "source": [
    "Create results table with odds_ratio and prediction"
   ]
  },
  {
   "cell_type": "code",
   "execution_count": 17,
   "metadata": {},
   "outputs": [
    {
     "name": "stdout",
     "output_type": "stream",
     "text": [
      " * postgresql://postgres@localhost:5432/datascience\n",
      "Done.\n",
      "Done.\n"
     ]
    },
    {
     "data": {
      "text/plain": [
       "[]"
      ]
     },
     "execution_count": 17,
     "metadata": {},
     "output_type": "execute_result"
    }
   ],
   "source": [
    "%%sql\n",
    "drop table if exists res_survey;\n",
    "create table res_survey(mydepv integer, \n",
    "                        price integer, \n",
    "                        income integer, \n",
    "                        age integer,\n",
    "                        price20 integer,\n",
    "                        price30 integer,\n",
    "                        odds_ratio real, \n",
    "                        prediction real);"
   ]
  },
  {
   "cell_type": "markdown",
   "metadata": {},
   "source": [
    "Put values to result table and count odds\\_ratio as _coef1 + coef2\\*param1 + coef3\\*param2 + coef4\\*param3 + coef5\\*param4_"
   ]
  },
  {
   "cell_type": "code",
   "execution_count": 18,
   "metadata": {},
   "outputs": [
    {
     "name": "stdout",
     "output_type": "stream",
     "text": [
      " * postgresql://postgres@localhost:5432/datascience\n",
      "750 rows affected.\n"
     ]
    },
    {
     "data": {
      "text/plain": [
       "[]"
      ]
     },
     "execution_count": 18,
     "metadata": {},
     "output_type": "execute_result"
    }
   ],
   "source": [
    "%%sql\n",
    "insert into res_survey\n",
    "select s.mydepv,\n",
    "        s.price, \n",
    "        s.income, \n",
    "        s.age, \n",
    "        s.price20, \n",
    "        s.price30,\n",
    "        (coef[1] + coef[2] * s.income + \n",
    "        coef[3] * s.age + \n",
    "        coef[4] * s.price20 + \n",
    "        coef[5] * s.price30) as odds_ratio,\n",
    "        0 as prediction\n",
    "from survey_logregr, survey as s;"
   ]
  },
  {
   "cell_type": "markdown",
   "metadata": {},
   "source": [
    "Count prediction as _exp(odds\\_ratio) / (1 + exp(odds\\_ratio))_"
   ]
  },
  {
   "cell_type": "code",
   "execution_count": 19,
   "metadata": {},
   "outputs": [
    {
     "name": "stdout",
     "output_type": "stream",
     "text": [
      " * postgresql://postgres@localhost:5432/datascience\n",
      "750 rows affected.\n"
     ]
    },
    {
     "data": {
      "text/plain": [
       "[]"
      ]
     },
     "execution_count": 19,
     "metadata": {},
     "output_type": "execute_result"
    }
   ],
   "source": [
    "%%sql\n",
    "update res_survey set prediction = (exp(odds_ratio) / (1+exp(odds_ratio)));"
   ]
  },
  {
   "cell_type": "markdown",
   "metadata": {},
   "source": [
    "Make predictions with coefs"
   ]
  },
  {
   "cell_type": "code",
   "execution_count": 23,
   "metadata": {},
   "outputs": [
    {
     "name": "stdout",
     "output_type": "stream",
     "text": [
      " * postgresql://postgres@localhost:5432/datascience\n",
      "1 rows affected.\n"
     ]
    },
    {
     "data": {
      "text/html": [
       "<table>\n",
       "    <tr>\n",
       "        <th>prediction</th>\n",
       "    </tr>\n",
       "    <tr>\n",
       "        <td>0.829105381494624</td>\n",
       "    </tr>\n",
       "</table>"
      ],
      "text/plain": [
       "[(0.829105381494624,)]"
      ]
     },
     "execution_count": 23,
     "metadata": {},
     "output_type": "execute_result"
    }
   ],
   "source": [
    "%%sql\n",
    "select exp_odds_ratio / (1 + exp_odds_ratio) as prediction\n",
    "from\n",
    "(select  exp(coef[1] + coef[2] * 58 + \n",
    "        coef[3] * 25 + \n",
    "        coef[4] * 1 + \n",
    "        coef[5] * 0) as exp_odds_ratio\n",
    "from survey_logregr) as tmp;"
   ]
  },
  {
   "cell_type": "code",
   "execution_count": 20,
   "metadata": {},
   "outputs": [
    {
     "name": "stdout",
     "output_type": "stream",
     "text": [
      " * postgresql://postgres@localhost:5432/datascience\n",
      "1 rows affected.\n"
     ]
    },
    {
     "data": {
      "text/html": [
       "<table>\n",
       "    <tr>\n",
       "        <th>prediction</th>\n",
       "    </tr>\n",
       "    <tr>\n",
       "        <td>0.0228618415177979</td>\n",
       "    </tr>\n",
       "</table>"
      ],
      "text/plain": [
       "[(0.0228618415177979,)]"
      ]
     },
     "execution_count": 20,
     "metadata": {},
     "output_type": "execute_result"
    }
   ],
   "source": [
    "%%sql\n",
    "select exp_odds_ratio / (1 + exp_odds_ratio) as prediction\n",
    "from\n",
    "(select  exp(coef[1] + coef[2] * 9.490 + \n",
    "        coef[3] * 51 + \n",
    "        coef[4] * 1 + \n",
    "        coef[5] * 0) as exp_odds_ratio\n",
    "from survey_logregr) as tmp;"
   ]
  },
  {
   "cell_type": "markdown",
   "metadata": {},
   "source": [
    "Count overall with \\+ from predicted data"
   ]
  },
  {
   "cell_type": "code",
   "execution_count": 21,
   "metadata": {},
   "outputs": [
    {
     "name": "stdout",
     "output_type": "stream",
     "text": [
      " * postgresql://postgres@localhost:5432/datascience\n",
      "1 rows affected.\n"
     ]
    },
    {
     "data": {
      "text/html": [
       "<table>\n",
       "    <tr>\n",
       "        <th>mydepv</th>\n",
       "        <th>predicted</th>\n",
       "    </tr>\n",
       "    <tr>\n",
       "        <td>324</td>\n",
       "        <td>324</td>\n",
       "    </tr>\n",
       "</table>"
      ],
      "text/plain": [
       "[(324, 324)]"
      ]
     },
     "execution_count": 21,
     "metadata": {},
     "output_type": "execute_result"
    }
   ],
   "source": [
    "%%sql\n",
    "select sum(mydepv) as mydepv, sum(prediction)::integer as predicted from res_survey;"
   ]
  }
 ],
 "metadata": {
  "kernelspec": {
   "display_name": "Python 3",
   "language": "python",
   "name": "python3"
  },
  "language_info": {
   "codemirror_mode": {
    "name": "ipython",
    "version": 3
   },
   "file_extension": ".py",
   "mimetype": "text/x-python",
   "name": "python",
   "nbconvert_exporter": "python",
   "pygments_lexer": "ipython3",
   "version": "3.5.2"
  }
 },
 "nbformat": 4,
 "nbformat_minor": 4
}
